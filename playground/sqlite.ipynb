{
 "cells": [
  {
   "cell_type": "code",
   "execution_count": 9,
   "metadata": {},
   "outputs": [],
   "source": [
    "from sqlalchemy import create_engine,ForeignKey,MetaData\n",
    "from sqlalchemy import Column,Date,Integer,String,Table\n",
    "\n",
    "engine=create_engine(\"sqlite:///test.db\",echo=True)"
   ]
  },
  {
   "cell_type": "code",
   "execution_count": 10,
   "metadata": {},
   "outputs": [
    {
     "data": {
      "text/plain": [
       "Engine(sqlite:///test.db)"
      ]
     },
     "execution_count": 10,
     "metadata": {},
     "output_type": "execute_result"
    }
   ],
   "source": [
    "engine"
   ]
  },
  {
   "cell_type": "code",
   "execution_count": 11,
   "metadata": {},
   "outputs": [
    {
     "data": {
      "text/plain": [
       "'/Users/qiang_wang/Library/CloudStorage/OneDrive-Personal/University/_Working_/PyTrans/PyTrans_Refac2/playground'"
      ]
     },
     "execution_count": 11,
     "metadata": {},
     "output_type": "execute_result"
    }
   ],
   "source": [
    "import os,sys\n",
    "\n",
    "os.getcwd()"
   ]
  },
  {
   "cell_type": "code",
   "execution_count": 12,
   "metadata": {},
   "outputs": [],
   "source": [
    "meta=MetaData()\n"
   ]
  },
  {
   "cell_type": "code",
   "execution_count": 13,
   "metadata": {},
   "outputs": [
    {
     "name": "stdout",
     "output_type": "stream",
     "text": [
      "2023-06-23 23:07:08,456 INFO sqlalchemy.engine.Engine BEGIN (implicit)\n",
      "2023-06-23 23:07:08,457 INFO sqlalchemy.engine.Engine PRAGMA main.table_info(\"students\")\n",
      "2023-06-23 23:07:08,457 INFO sqlalchemy.engine.Engine [raw sql] ()\n",
      "2023-06-23 23:07:08,458 INFO sqlalchemy.engine.Engine PRAGMA temp.table_info(\"students\")\n",
      "2023-06-23 23:07:08,458 INFO sqlalchemy.engine.Engine [raw sql] ()\n",
      "2023-06-23 23:07:08,460 INFO sqlalchemy.engine.Engine \n",
      "CREATE TABLE students (\n",
      "\tid INTEGER NOT NULL, \n",
      "\tname VARCHAR, \n",
      "\tlastname VARCHAR, \n",
      "\tPRIMARY KEY (id)\n",
      ")\n",
      "\n",
      "\n",
      "2023-06-23 23:07:08,460 INFO sqlalchemy.engine.Engine [no key 0.00055s] ()\n",
      "2023-06-23 23:07:08,463 INFO sqlalchemy.engine.Engine COMMIT\n"
     ]
    }
   ],
   "source": [
    "students = Table(\n",
    "    \"students\",\n",
    "    meta,\n",
    "    Column(\"id\", Integer, primary_key=True),\n",
    "    Column(\"name\", String),\n",
    "    Column(\"lastname\", String),\n",
    ")\n",
    "\n",
    "meta.create_all(engine)"
   ]
  }
 ],
 "metadata": {
  "kernelspec": {
   "display_name": "Python 3",
   "language": "python",
   "name": "python3"
  },
  "language_info": {
   "codemirror_mode": {
    "name": "ipython",
    "version": 3
   },
   "file_extension": ".py",
   "mimetype": "text/x-python",
   "name": "python",
   "nbconvert_exporter": "python",
   "pygments_lexer": "ipython3",
   "version": "3.9.16"
  },
  "orig_nbformat": 4
 },
 "nbformat": 4,
 "nbformat_minor": 2
}
